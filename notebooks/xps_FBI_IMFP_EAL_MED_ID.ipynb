{
 "cells": [
  {
   "cell_type": "code",
   "execution_count": 1,
   "metadata": {},
   "outputs": [],
   "source": [
    "import pandas as pd\n",
    "import numpy as np\n",
    "import matplotlib.pyplot as plt\n",
    "from mpl_toolkits.mplot3d import Axes3D\n",
    "\n",
    "import sys\n",
    "import glob\n",
    "import os\n",
    "import peakutils\n",
    "import datetime\n",
    "import warnings\n",
    "import logging\n",
    "from jupyterthemes import jtplot"
   ]
  },
  {
   "cell_type": "code",
   "execution_count": 2,
   "metadata": {},
   "outputs": [],
   "source": [
    "from xps.xps_sw import *\n",
    "from xps.xps_import import *\n",
    "from xps.xps_analysis import *\n",
    "from xps.xps_bg import *\n",
    "\n",
    "jtplot.style('default', grid=False)\n",
    "logging.getLogger().setLevel(logging.CRITICAL)\n",
    "\n",
    "plt.rcParams['errorbar.capsize'] = 8\n",
    "plt.rcParams['font.size'] = 18\n",
    "plt.rc('font', size= 18)\n",
    "plt.rc('legend', fontsize= 15)\n",
    "plt.rc('xtick', labelsize= 18)\n",
    "plt.rc('xtick.major', size=6)\n",
    "plt.rc('ytick.major', size=6)\n",
    "\n",
    "plt.rc('ytick', labelsize= 18)\n",
    "plt.rc('axes', labelsize=18)\n",
    "plt.rc('axes', titlesize=18)"
   ]
  },
  {
   "cell_type": "markdown",
   "metadata": {},
   "source": [
    "## Parameters for IMFP calculation\n",
    "\n",
    "Through TPP-2M algorithm"
   ]
  },
  {
   "cell_type": "markdown",
   "metadata": {},
   "source": [
    "##### Mass density"
   ]
  },
  {
   "cell_type": "code",
   "execution_count": 4,
   "metadata": {},
   "outputs": [
    {
     "data": {
      "text/plain": [
       "0.5324051841398443"
      ]
     },
     "execution_count": 4,
     "metadata": {},
     "output_type": "execute_result"
    }
   ],
   "source": [
    "Na = 6.023e23\n",
    "M = 529     # [g/mol] molar mass\n",
    "R = 7.33e-8 # cm or 0.733 nm, from Fernando's calculation, globularity 1\n",
    "rho = M/Na/(4*np.pi/3*R**3)\n",
    "rho    # g / cm3"
   ]
  },
  {
   "cell_type": "code",
   "execution_count": null,
   "metadata": {},
   "outputs": [],
   "source": [
    "V = 4*np.pi/3*R**3 #cm^3\n",
    "V"
   ]
  },
  {
   "cell_type": "markdown",
   "metadata": {},
   "source": [
    "##### Total nr of valence electrons\n",
    "Sum of nr for individual atoms weighted by stoichiometry"
   ]
  },
  {
   "cell_type": "code",
   "execution_count": 2,
   "metadata": {},
   "outputs": [
    {
     "data": {
      "text/plain": [
       "(0.4189189189189189,\n",
       " 0.47297297297297297,\n",
       " 0.06756756756756757,\n",
       " 0.04054054054054054)"
      ]
     },
     "execution_count": 2,
     "metadata": {},
     "output_type": "execute_result"
    }
   ],
   "source": [
    "31+35+5+3\n",
    "31/74, 35/74, 5/74, 3/74"
   ]
  },
  {
   "cell_type": "code",
   "execution_count": 30,
   "metadata": {},
   "outputs": [
    {
     "data": {
      "text/plain": [
       "204"
      ]
     },
     "execution_count": 30,
     "metadata": {},
     "output_type": "execute_result"
    }
   ],
   "source": [
    "eC = 4\n",
    "eO = 6\n",
    "eH = 1\n",
    "eN = 5\n",
    "\n",
    "eFBI = 31*eC + 35*eH + 3*eN + 5*eO\n",
    "eFBI"
   ]
  },
  {
   "cell_type": "markdown",
   "metadata": {},
   "source": [
    "##### Gap energy: (D. Casanova & C. Tonnelé calculation) L-H = 6.699 eV"
   ]
  },
  {
   "cell_type": "code",
   "execution_count": 3,
   "metadata": {},
   "outputs": [
    {
     "data": {
      "text/plain": [
       "(554.6099999999999, 1387.61, 1336.61)"
      ]
     },
     "execution_count": 3,
     "metadata": {},
     "output_type": "execute_result"
    }
   ],
   "source": [
    "hv = 1486.61\n",
    "hv - 932, hv - 99, hv - 150"
   ]
  },
  {
   "cell_type": "markdown",
   "metadata": {},
   "source": [
    "##### From STM measurement: \n",
    "FBI: L-H = 3.0 eV\n",
    "\n",
    "FBI-Ba: L-H = 3.6 eV"
   ]
  },
  {
   "cell_type": "markdown",
   "metadata": {},
   "source": [
    "##### Cu 2p 3/2 (554.61 eV): TPP-2M formula yields $\\lambda_{in}$ = 18.86 Å\n",
    "This takes into account E$_{gap}$ = 3.0 eV.  (STM measurement)\n",
    "\n",
    "Mind also that 554.61 is the KE corresponding to BE = 932 eV (Cu 2p 3/2) for Al K $\\alpha$ radiation of 1486.6 eV"
   ]
  },
  {
   "cell_type": "markdown",
   "metadata": {},
   "source": [
    "##### Si 2p 3/2 (1387.6 eV): TPP-2M formula yields $\\lambda_{in}$ = 39.40 Å\n",
    "This takes into account E$_{gap}$ = 3.0 eV. (STM measurement).\n",
    "\n",
    "Mind also that 1387.6 is the KE corresponding to BE = 99 eV (Si 2p) for Al K $\\alpha$ radiation of 1486.6 eV"
   ]
  },
  {
   "cell_type": "markdown",
   "metadata": {},
   "source": [
    "##### In 3d 5/2 (1041.6 eV): TPP-2M formula yields $\\lambda_{in}$ = 31.18 Å\n",
    "This takes into account E$_{gap}$ = 3.0 eV. (STM measurement).\n",
    "\n",
    "Mind also that 1041.6 is the KE corresponding to BE = 445 eV (In 3d) for Al K $\\alpha$ radiation of 1486.6 eV"
   ]
  },
  {
   "cell_type": "markdown",
   "metadata": {},
   "source": [
    "##### Si 2s (1336.6 eV): TPP-2M formula yields $\\lambda_{in}$ = 38.21 Å\n",
    "This takes into account E$_{gap}$ = 6.699 eV. \n",
    "\n",
    "Mind also that 1336.6 is the KE corresponding to BE = 150 eV (Si 2s) for Al K $\\alpha$ radiation of 1486.6 eV"
   ]
  },
  {
   "cell_type": "markdown",
   "metadata": {},
   "source": [
    "##### Au 4f 5/2 (1402.6 eV): TPP-2M formula yields $\\lambda_{in}$ = 39.77 Å\n",
    "This takes into account E$_{gap}$ = 3.0 eV.  (STM measurement)\n",
    "\n",
    "Mind also that 1402.61 is the KE corresponding to BE = 84 eV (Au 4f 5/2) for Al K $\\alpha$ radiation of 1486.6 eV"
   ]
  },
  {
   "cell_type": "markdown",
   "metadata": {},
   "source": [
    "# Layer thickness from Cu attenuation\n",
    "\n",
    "$$ I_f = I_0 \\exp{\\left(-\\frac{d_A}{\\lambda_A\\cos\\theta} \\right)}, $$\n",
    "\n",
    "where $I_f$ and $I_0$ are the covered and clean intensities of the copper, $d_A$ is the coverage (thickness of layer A), $\\theta$ is the takeoff angle and $\\lambda_A$ is the inelastic mean free path of the material (IMFP).\n",
    "\n",
    "$\\lambda_{FBI}$(554 eV = Cu 2p 3/2) = 1.88 nm\n",
    "\n",
    "$\\cos\\theta = \\cos$(10º) = 0.9848\n",
    "\n",
    "However, if elastic scattering effects are considered, $\\lambda_A$ must be substituted by $L_{TH}$, the Effective Attenuation Length. (See section 2)"
   ]
  },
  {
   "cell_type": "markdown",
   "metadata": {
    "heading_collapsed": true
   },
   "source": [
    "## Reimport processed unscaled data (FBI sublimation on Cu) for ilustration"
   ]
  },
  {
   "cell_type": "code",
   "execution_count": 3,
   "metadata": {
    "cell_style": "split",
    "hidden": true,
    "scrolled": true
   },
   "outputs": [
    {
     "name": "stdout",
     "output_type": "stream",
     "text": [
      "2020_09_22_Cu20200922_1-Cu_clean.uxy\n",
      "2020_09_22_Cu20200923_1-Cu_FBI_subl_20min.uxy\n",
      "2020_10_08_Cu20201013_2-Cu_FBI_subl_20min.uxy\n",
      "2020_10_08_Cu20201013_2-Cu_clean.uxy\n",
      "2020_10_14_Cu20201014_3-Cu_clean.uxy\n",
      "2020_10_14_Cu20201014_3-Cu_FBI_subl_50min.uxy\n",
      "2020_10_14_Cu20201014_3-Cu_FBI_subl_25min.uxy\n",
      "2020_10_16_Cu20201016_4-Cu_FBI_subl_5min.uxy\n",
      "2020_10_16_Cu20201016_4-Cu_clean.uxy\n",
      "2020_10_19_Cu20201019_5-Cu_clean.uxy\n",
      "2020_10_19_Cu20201019_5-Cu_FBI_subl_6min.uxy\n",
      "2020_10_19_Cu20201019_5-Cu_FBI_subl_11min.uxy\n",
      "2020_10_19_Cu20201020_5-Cu_FBI_subl_16min.uxy\n",
      "2020_10_19_Cu20201020_5-Cu_FBI_subl_21min.uxy\n",
      "2020_10_21_Cu20201021_6-Cu_FBI_subl_15min.uxy\n",
      "2020_10_21_Cu20201021_6-Cu_clean.uxy\n",
      "20210119_7-Cu_FBI_subl_05min.uxy\n",
      "20210119_7-Cu_FBI_subl_10min.uxy\n",
      "20210119_7-Cu_FBI_subl_15min.uxy\n",
      "20210119_7-Cu_FBI_subl_20min.uxy\n",
      "20210119_7-Cu_clean.uxy\n",
      "20210121_8-Cu_FBI_subl_05min.uxy\n",
      "20210121_8-Cu_clean.uxy\n",
      "20210122_8-Cu_FBI_subl_15min.uxy\n",
      "20210122_8-Cu_FBI_subl_60min.uxy\n",
      "20210122_9-Cu_FBI_subl_2p5min.uxy\n",
      "20210122_9-Cu_clean.uxy\n",
      "20210125_10a-Cu_FBI_subl_10min_1p9V.uxy\n",
      "20210125_10a-Cu_clean.uxy\n",
      "20210125_10b-Cu_FBI_subl_10min_1p95V.uxy\n",
      "20210125_10b-Cu_clean.uxy\n",
      "20210125_10c-Cu_FBI_subl_10min_2V.uxy\n",
      "20210125_10c-Cu_clean.uxy\n",
      "20210201_11-Cu_FBI_subl_20min.uxy\n",
      "20210201_11-Cu_clean.uxy\n",
      "20210202_12-Cu_FBI_subl_20min.uxy\n",
      "20210202_12-Cu_clean.uxy\n",
      "20210203_13-Cu_FBI_subl_60min.uxy\n",
      "20210203_13-Cu_clean.uxy\n",
      "20210205_14-Cu_FBI_subl_8min.uxy\n",
      "20210205_14-Cu_clean2.uxy\n"
     ]
    }
   ],
   "source": [
    "path = '/Users/pabloherrero/sabat/xps_spectra/FBI_Cu/FBI_subl/**/*.uxy'\n",
    "files = glob.glob(path, recursive=True)\n",
    "files.sort()\n",
    "files_new = []\n",
    "for f in files:\n",
    "    if (' ' not in f) and ('BaCl2' not in f):\n",
    "        files_new.append(f)\n",
    "\n",
    "files = files_new\n",
    "files[9], files[11] = files[11], files[9]\n",
    "files[4], files[6] = files[6], files[4]\n",
    "\n",
    "for f in files:\n",
    "    print(os.path.split(f)[1])"
   ]
  },
  {
   "cell_type": "code",
   "execution_count": 7,
   "metadata": {
    "cell_style": "split",
    "code_folding": [
     3
    ],
    "hidden": true
   },
   "outputs": [
    {
     "name": "stdout",
     "output_type": "stream",
     "text": [
      "1-Cu_clean \t 2020.09.22\n",
      "1-FBI 20min \t 2020.09.23\n",
      "2-FBI 20min \t 2020.10.13\n",
      "2-Cu_clean \t 2020.10.13\n",
      "3-Cu_clean \t 2020.10.14\n",
      "3-FBI 50min \t 2020.10.14\n",
      "3-FBI 25min \t 2020.10.14\n",
      "4-FBI 5min \t 2020.10.16\n",
      "4-Cu_clean \t 2020.10.16\n",
      "5-Cu_clean \t 2020.10.19\n",
      "5-FBI 6min \t 2020.10.19\n",
      "5-FBI 11min \t 2020.10.19\n",
      "5-FBI 16min \t 2020.10.20\n",
      "5-FBI 21min \t 2020.10.20\n",
      "6-FBI 15min \t 2020.10.21\n",
      "6-Cu_clean \t 2020.10.21\n",
      "7-FBI 5min \t 20.21.0119\n",
      "7-FBI 10min \t 20.21.0119\n",
      "7_Cu-FBI 15min \t 20.21.0119\n",
      "7-FBI 20min \t 20.21.0119\n",
      "7-Cu_clean \t 20.21.0119\n",
      "8-FBI 05min \t 20.21.0121\n",
      "8-Cu_clean \t 20.21.0121\n",
      "8-FBI 15min \t 20.21.0122\n",
      "8-FBI 60min \t 20.21.0122\n",
      "9-FBI 2p5min \t 20.21.0122\n",
      "9-Cu_clean \t 20.21.0122\n",
      "10a-FBI 10min_1p9V \t 20.21.0125\n",
      "10a-Cu_clean \t 20.21.0125\n",
      "10b-FBI 10min_1p95V \t 20.21.0125\n",
      "10b-Cu_clean \t 20.21.0125\n",
      "10c-FBI 10min_2V \t 20.21.0125\n",
      "10c-Cu_clean \t 20.21.0125\n",
      "11-FBI 20min \t 20.21.0201\n",
      "11-Cu_clean \t 20.21.0201\n",
      "12-FBI 20min \t 20.21.0202\n",
      "12-Cu_clean \t 20.21.0202\n",
      "13-FBI 60min \t 20.21.0203\n",
      "13-Cu_clean \t 20.21.0203\n",
      "14-FBI 8min \t 20.21.0205\n",
      "14-Cu_clean2 \t 20.21.0205\n"
     ]
    }
   ],
   "source": [
    "unscaled_exps = [read_processed_xp(path=f) for f in files]\n",
    "\n",
    "for xp in unscaled_exps:\n",
    "    if 'FBI' in xp.name:\n",
    "        xp.name = xp.name.replace('Cu_', '').replace('_subl_', ' ')\n",
    "    print(xp.name, '\\t', xp.date)"
   ]
  },
  {
   "cell_type": "code",
   "execution_count": 8,
   "metadata": {
    "cell_style": "split",
    "hidden": true
   },
   "outputs": [],
   "source": [
    "region = 'Cu_2p'\n",
    "for xp in unscaled_exps:\n",
    "    crop_spectrum(xp, region, eup=960, edw=925, inplace=True)"
   ]
  },
  {
   "cell_type": "markdown",
   "metadata": {
    "heading_collapsed": true
   },
   "source": [
    "## ML saturation"
   ]
  },
  {
   "cell_type": "code",
   "execution_count": 186,
   "metadata": {
    "hidden": true
   },
   "outputs": [
    {
     "data": {
      "image/png": "[encoded data removed]",
      "text/plain": [
       "<Figure size 1152x576 with 4 Axes>"
      ]
     },
     "metadata": {},
     "output_type": "display_data"
    }
   ],
   "source": [
    "regions = ['C_1s', 'N_1s', 'O_1s', 'Cu_2p']\n",
    "\n",
    "ax = plot_xp_regions(unscaled_exps[4:7], regions, ncols=2)"
   ]
  },
  {
   "cell_type": "markdown",
   "metadata": {
    "heading_collapsed": true
   },
   "source": [
    "## Cu attenuation plots"
   ]
  },
  {
   "cell_type": "code",
   "execution_count": 188,
   "metadata": {
    "cell_style": "split",
    "hidden": true
   },
   "outputs": [
    {
     "data": {
      "image/png": "[encoded data removed]",
      "text/plain": [
       "<Figure size 460.8x403.2 with 1 Axes>"
      ]
     },
     "metadata": {},
     "output_type": "display_data"
    }
   ],
   "source": [
    "plot_region(bg_exps[0], region)\n",
    "plot_region(bg_exps[1], region)\n",
    "cosmetics_plot()"
   ]
  },
  {
   "cell_type": "code",
   "execution_count": 191,
   "metadata": {
    "cell_style": "split",
    "hidden": true
   },
   "outputs": [
    {
     "data": {
      "image/png": "[encoded data removed]",
      "text/plain": [
       "<Figure size 460.8x403.2 with 1 Axes>"
      ]
     },
     "metadata": {},
     "output_type": "display_data"
    }
   ],
   "source": [
    "plot_region(bg_exps[3], region)\n",
    "plot_region(bg_exps[2], region)\n",
    "cosmetics_plot()"
   ]
  },
  {
   "cell_type": "code",
   "execution_count": 193,
   "metadata": {
    "cell_style": "split",
    "hidden": true
   },
   "outputs": [
    {
     "data": {
      "image/png": "[encoded data removed]",
      "text/plain": [
       "<Figure size 460.8x403.2 with 1 Axes>"
      ]
     },
     "metadata": {},
     "output_type": "display_data"
    }
   ],
   "source": [
    "plot_region(bg_exps[6], region)\n",
    "plot_region(bg_exps[4], region)\n",
    "cosmetics_plot()"
   ]
  },
  {
   "cell_type": "code",
   "execution_count": 194,
   "metadata": {
    "cell_style": "split",
    "hidden": true,
    "scrolled": true
   },
   "outputs": [
    {
     "data": {
      "image/png": "[encoded data removed]",
      "text/plain": [
       "<Figure size 460.8x403.2 with 1 Axes>"
      ]
     },
     "metadata": {},
     "output_type": "display_data"
    }
   ],
   "source": [
    "plot_region(bg_exps[8], region)\n",
    "plot_region(bg_exps[7], region)\n",
    "cosmetics_plot()"
   ]
  },
  {
   "cell_type": "code",
   "execution_count": null,
   "metadata": {
    "hidden": true
   },
   "outputs": [],
   "source": []
  },
  {
   "cell_type": "code",
   "execution_count": 196,
   "metadata": {
    "cell_style": "split",
    "hidden": true
   },
   "outputs": [
    {
     "data": {
      "image/png": "[encoded data removed]",
      "text/plain": [
       "<Figure size 460.8x403.2 with 1 Axes>"
      ]
     },
     "metadata": {},
     "output_type": "display_data"
    }
   ],
   "source": [
    "plot_region(bg_exps[15], region)\n",
    "plot_region(bg_exps[14], region)\n",
    "cosmetics_plot()"
   ]
  },
  {
   "cell_type": "code",
   "execution_count": 27,
   "metadata": {
    "hidden": true
   },
   "outputs": [
    {
     "data": {
      "text/plain": [
       "3.702775993853286"
      ]
     },
     "execution_count": 27,
     "metadata": {},
     "output_type": "execute_result"
    }
   ],
   "source": [
    "If = np.trapz(xpf.dfx[region].dropna().counts, dx=0.1)\n",
    "I0 = np.trapz(xp0.dfx[region].dropna().counts, dx=0.1)\n",
    "from invisible_cities.core.system_of_units import nm\n",
    "mfp = 3.85 * nm\n",
    "costh = np.cos(10*np.pi/180)\n",
    "\n",
    "thick = mfp/costh*np.log(I0/If)\n",
    "thick / nm\n",
    "# np.log(I0/If+1)"
   ]
  },
  {
   "cell_type": "code",
   "execution_count": 59,
   "metadata": {
    "hidden": true
   },
   "outputs": [
    {
     "data": {
      "text/plain": [
       "0.980535398861882"
      ]
     },
     "execution_count": 59,
     "metadata": {},
     "output_type": "execute_result"
    }
   ],
   "source": [
    "xpf = bg_exps[4]\n",
    "xp0 = bg_exps[3]\n",
    "If = np.trapz(xpf.dfx[region].dropna().counts, dx=0.1)\n",
    "I0 = np.trapz(xp0.dfx[region].dropna().counts, dx=0.1)\n",
    "from invisible_cities.core.system_of_units import nm\n",
    "mfp = 3.85 * nm\n",
    "costh = np.cos(10*np.pi/180)\n",
    "\n",
    "thick = mfp/costh*np.log(I0/If)\n",
    "thick / nm\n",
    "# np.log(I0/If+1)"
   ]
  },
  {
   "cell_type": "markdown",
   "metadata": {
    "heading_collapsed": true
   },
   "source": [
    "## Results for FBI sublimated on Cu"
   ]
  },
  {
   "cell_type": "code",
   "execution_count": 10,
   "metadata": {
    "cell_style": "split",
    "hidden": true
   },
   "outputs": [],
   "source": [
    "from invisible_cities.core.system_of_units import nm\n",
    "mfp = 3.85 * nm"
   ]
  },
  {
   "cell_type": "code",
   "execution_count": 11,
   "metadata": {
    "cell_style": "center",
    "hidden": true
   },
   "outputs": [
    {
     "data": {
      "text/plain": [
       "(1.5786763131453027e-06, 1.0421043337017841e-08)"
      ]
     },
     "execution_count": 11,
     "metadata": {},
     "output_type": "execute_result"
    }
   ],
   "source": [
    "thick1 = layer_thickness(unscaled_exps[1], unscaled_exps[0], 'Cu_2p', mfp, takeoff = 10)\n",
    "thick1"
   ]
  },
  {
   "cell_type": "code",
   "execution_count": 202,
   "metadata": {
    "cell_style": "center",
    "hidden": true
   },
   "outputs": [
    {
     "data": {
      "text/plain": [
       "(1.784162411036942, 0.017052911409008078)"
      ]
     },
     "execution_count": 202,
     "metadata": {},
     "output_type": "execute_result"
    }
   ],
   "source": [
    "thick2 = layer_thickness(unscaled_exps[2], unscaled_exps[3], 'Cu_2p', mfp, takeoff = 10)\n",
    "thick2"
   ]
  },
  {
   "cell_type": "code",
   "execution_count": 204,
   "metadata": {
    "cell_style": "center",
    "hidden": true
   },
   "outputs": [
    {
     "data": {
      "text/plain": [
       "(1.033456296427833, 0.016006497963910942)"
      ]
     },
     "execution_count": 204,
     "metadata": {},
     "output_type": "execute_result"
    }
   ],
   "source": [
    "thick3= layer_thickness(unscaled_exps[6], unscaled_exps[4], 'Cu_2p', mfp, takeoff = 10)\n",
    "thick3"
   ]
  },
  {
   "cell_type": "code",
   "execution_count": 207,
   "metadata": {
    "cell_style": "center",
    "hidden": true
   },
   "outputs": [
    {
     "data": {
      "text/plain": [
       "(0.3447798871629809, 0.014712682546233357)"
      ]
     },
     "execution_count": 207,
     "metadata": {},
     "output_type": "execute_result"
    }
   ],
   "source": [
    "thick4 = layer_thickness(unscaled_exps[7], unscaled_exps[8], 'Cu_2p', mfp, takeoff = 10)\n",
    "thick4"
   ]
  },
  {
   "cell_type": "code",
   "execution_count": 206,
   "metadata": {
    "cell_style": "center",
    "hidden": true
   },
   "outputs": [
    {
     "data": {
      "text/plain": [
       "(1.7328325710963486, 0.016436099856358622)"
      ]
     },
     "execution_count": 206,
     "metadata": {},
     "output_type": "execute_result"
    }
   ],
   "source": [
    "thick5 = layer_thickness(unscaled_exps[13], unscaled_exps[9], 'Cu_2p', mfp, takeoff = 10)\n",
    "# unscaled_exps[9].name, unscaled_exps[13].name\n",
    "thick5"
   ]
  },
  {
   "cell_type": "code",
   "execution_count": 208,
   "metadata": {
    "cell_style": "center",
    "hidden": true
   },
   "outputs": [
    {
     "data": {
      "text/plain": [
       "(1.549589379411192, 0.01089409103690863)"
      ]
     },
     "execution_count": 208,
     "metadata": {},
     "output_type": "execute_result"
    }
   ],
   "source": [
    "thick6 = layer_thickness(unscaled_exps[14], unscaled_exps[15], 'Cu_2p', mfp, takeoff = 10)\n",
    "thick6"
   ]
  },
  {
   "cell_type": "code",
   "execution_count": 210,
   "metadata": {
    "hidden": true
   },
   "outputs": [
    {
     "name": "stdout",
     "output_type": "stream",
     "text": [
      "4.20e+12 ± 4.01e+10 molecules in 1 mm2 area\n"
     ]
    }
   ],
   "source": [
    "print('%.2e ± %.2e molecules in 1 mm2 area' %n_ml(thick2) )"
   ]
  },
  {
   "cell_type": "code",
   "execution_count": 211,
   "metadata": {
    "hidden": true
   },
   "outputs": [
    {
     "name": "stdout",
     "output_type": "stream",
     "text": [
      "2.43e+12 ± 3.77e+10 molecules in 1 mm2 area\n"
     ]
    }
   ],
   "source": [
    "print('%.2e ± %.2e molecules in 1 mm2 area' %n_ml(thick3) )"
   ]
  },
  {
   "cell_type": "code",
   "execution_count": 212,
   "metadata": {
    "hidden": true
   },
   "outputs": [
    {
     "name": "stdout",
     "output_type": "stream",
     "text": [
      "8.12e+11 ± 3.46e+10 molecules in 1 mm2 area\n"
     ]
    }
   ],
   "source": [
    "print('%.2e ± %.2e molecules in 1 mm2 area' %n_ml(thick4) )"
   ]
  },
  {
   "cell_type": "code",
   "execution_count": 213,
   "metadata": {
    "hidden": true
   },
   "outputs": [
    {
     "name": "stdout",
     "output_type": "stream",
     "text": [
      "4.08e+12 ± 3.87e+10 molecules in 1 mm2 area\n"
     ]
    }
   ],
   "source": [
    "print('%.2e ± %.2e molecules in 1 mm2 area' %n_ml(thick5))"
   ]
  },
  {
   "cell_type": "code",
   "execution_count": 214,
   "metadata": {
    "hidden": true
   },
   "outputs": [
    {
     "name": "stdout",
     "output_type": "stream",
     "text": [
      "3.65e+12 ± 2.56e+10 molecules in 1 mm2 area\n"
     ]
    }
   ],
   "source": [
    "print('%.2e ± %.2e molecules in 1 mm2 area' %n_ml(thick6) )"
   ]
  },
  {
   "cell_type": "markdown",
   "metadata": {},
   "source": [
    "# Transport Mean Free Path\n",
    "$$\\lambda_t = \\left(N \\displaystyle\\sum_{k=1}^n x_k \\sigma_{t,k} \\right)^{-1},$$\n",
    "where $N$ is the density of atoms in the solid, $x_k$ is the atom fraction of the kth species having a Transport Cross Section (TCS) $\\sigma_{t,k}$\n",
    "\n",
    "Ref:  C.J. Powell, A. Jablonski \"Surface sensitivity of X-ray photoelectron spectroscopy\", Nuclear Instruments and Methods in Physics Research A 601 (2009) 54–65, doi:10.1016/j.nima.2008.12.103\n"
   ]
  },
  {
   "cell_type": "code",
   "execution_count": 2,
   "metadata": {},
   "outputs": [],
   "source": [
    "from invisible_cities.core.system_of_units import nm, m2"
   ]
  },
  {
   "cell_type": "code",
   "execution_count": 3,
   "metadata": {},
   "outputs": [],
   "source": [
    "a02 = 2.8e-21 * m2\n",
    "sigma_C = 1.047 * a02 # With initial e- energy 286 eV\n",
    "sigma_O = 5.908 * a02 # With initial e- energy 532 eV\n",
    "sigma_N = 0.769 * a02 # With initial e- energy 400 eV\n",
    "sigma_H = 0.315 * a02 # With initial e- energy 100 eV"
   ]
  },
  {
   "cell_type": "code",
   "execution_count": 4,
   "metadata": {},
   "outputs": [
    {
     "data": {
      "text/plain": [
       "(0.4189189189189189,\n",
       " 0.06756756756756757,\n",
       " 0.04054054054054054,\n",
       " 0.47297297297297297)"
      ]
     },
     "execution_count": 4,
     "metadata": {},
     "output_type": "execute_result"
    }
   ],
   "source": [
    "tot = 31 + 35 + 3 + 5\n",
    "x_C = 31/tot\n",
    "x_O = 5/tot\n",
    "x_N = 3/tot\n",
    "x_H = 35/tot\n",
    "x_C, x_O, x_N, x_H"
   ]
  },
  {
   "cell_type": "code",
   "execution_count": null,
   "metadata": {},
   "outputs": [],
   "source": [
    "/C0.42/H0.47/O.06/N.04"
   ]
  },
  {
   "cell_type": "markdown",
   "metadata": {},
   "source": [
    "## Estimate N atomic density"
   ]
  },
  {
   "cell_type": "code",
   "execution_count": 8,
   "metadata": {
    "scrolled": true
   },
   "outputs": [
    {
     "name": "stdout",
     "output_type": "stream",
     "text": [
      "3.14e+09 molecs per µm3\n",
      "3.14e+21 molecs per cm3\n"
     ]
    }
   ],
   "source": [
    "r_fbi = 0.683 * nm   # from Fernando's calculation, globularity 1\n",
    "V_fbi = r_fbi**3 * 4/3* np.pi\n",
    "\n",
    "V_fov = 4/3*np.pi          # Assume an homogeneous layer of radius 1 mm\n",
    "\n",
    "N_molecs = V_fov / V_fbi # Molecs per mm3\n",
    "print('%.2e molecs per µm3' %(N_molecs / 1e9))\n",
    "print('%.2e molecs per cm3' %(N_molecs * 1e3))"
   ]
  },
  {
   "cell_type": "markdown",
   "metadata": {},
   "source": [
    "## TRMFP"
   ]
  },
  {
   "cell_type": "code",
   "execution_count": 9,
   "metadata": {},
   "outputs": [
    {
     "data": {
      "text/plain": [
       "111.78244310197367"
      ]
     },
     "execution_count": 9,
     "metadata": {},
     "output_type": "execute_result"
    }
   ],
   "source": [
    "suma = sigma_C*x_C + sigma_O*x_O + sigma_N*x_N + sigma_H*x_H\n",
    "trmfp = 1/(N_molecs * suma)\n",
    "trmfp / nm"
   ]
  },
  {
   "cell_type": "code",
   "execution_count": 10,
   "metadata": {},
   "outputs": [
    {
     "data": {
      "text/plain": [
       "0.0028502864864864874"
      ]
     },
     "execution_count": 10,
     "metadata": {},
     "output_type": "execute_result"
    }
   ],
   "source": [
    "suma / nm / nm"
   ]
  },
  {
   "cell_type": "markdown",
   "metadata": {},
   "source": [
    "# Calculate single-scattering albedo:\n",
    "$$\\omega = \\frac{\\lambda_{in} }{\\lambda_{in} + \\lambda_t } $$\n",
    "\n",
    "Ref: Cedric Powell \"Practical guide for IMFP, EAL, MED and ID in XPS\",\n",
    "\n",
    "J. Vac. Sci. Techol. A 38, 023209 (2020); \n",
    "\n",
    "https://doi.org/10.116/1.5141079"
   ]
  },
  {
   "cell_type": "markdown",
   "metadata": {},
   "source": [
    "## Cu 2p: $\\lambda_{in}$ = 1.88 nm"
   ]
  },
  {
   "cell_type": "code",
   "execution_count": 12,
   "metadata": {
    "cell_style": "split"
   },
   "outputs": [],
   "source": [
    "mfp_cu = 1.886 * nm"
   ]
  },
  {
   "cell_type": "code",
   "execution_count": 19,
   "metadata": {
    "cell_style": "split",
    "scrolled": true
   },
   "outputs": [
    {
     "data": {
      "text/plain": [
       "0.01636712437034625"
      ]
     },
     "execution_count": 19,
     "metadata": {},
     "output_type": "execute_result"
    }
   ],
   "source": [
    "w_cu = mfp_cu/(mfp_cu + trmfp)\n",
    "w_cu"
   ]
  },
  {
   "cell_type": "markdown",
   "metadata": {},
   "source": [
    "## Si 2p: $\\lambda_{in}$ = 3.94 nm"
   ]
  },
  {
   "cell_type": "code",
   "execution_count": 20,
   "metadata": {
    "cell_style": "split"
   },
   "outputs": [],
   "source": [
    "mfp_si = 3.94 * nm"
   ]
  },
  {
   "cell_type": "code",
   "execution_count": 22,
   "metadata": {
    "cell_style": "split"
   },
   "outputs": [
    {
     "data": {
      "text/plain": [
       "0.03404698254190939"
      ]
     },
     "execution_count": 22,
     "metadata": {},
     "output_type": "execute_result"
    }
   ],
   "source": [
    "w_si = mfp_si/(mfp_si + trmfp)\n",
    "w_si"
   ]
  },
  {
   "cell_type": "markdown",
   "metadata": {},
   "source": [
    "## In 3d: $\\lambda_{in}$ = 3.12 nm"
   ]
  },
  {
   "cell_type": "code",
   "execution_count": 13,
   "metadata": {
    "cell_style": "split"
   },
   "outputs": [],
   "source": [
    "mfp_in = 3.12 * nm"
   ]
  },
  {
   "cell_type": "code",
   "execution_count": 14,
   "metadata": {
    "cell_style": "split"
   },
   "outputs": [
    {
     "data": {
      "text/plain": [
       "0.027153469637116956"
      ]
     },
     "execution_count": 14,
     "metadata": {},
     "output_type": "execute_result"
    }
   ],
   "source": [
    "w_in = mfp_in/(mfp_in + trmfp)\n",
    "w_in"
   ]
  },
  {
   "cell_type": "markdown",
   "metadata": {},
   "source": [
    "## Au 4f: $\\lambda_{in}$ = 3.97 nm"
   ]
  },
  {
   "cell_type": "code",
   "execution_count": 26,
   "metadata": {
    "cell_style": "split"
   },
   "outputs": [],
   "source": [
    "mfp_au = 3.97 * nm"
   ]
  },
  {
   "cell_type": "code",
   "execution_count": 27,
   "metadata": {
    "cell_style": "split",
    "scrolled": true
   },
   "outputs": [
    {
     "data": {
      "text/plain": [
       "0.03429733225157568"
      ]
     },
     "execution_count": 27,
     "metadata": {},
     "output_type": "execute_result"
    }
   ],
   "source": [
    "w_au = mfp_au/(mfp_au + trmfp)\n",
    "w_au"
   ]
  },
  {
   "cell_type": "markdown",
   "metadata": {},
   "source": [
    "# Effective Attenuation Length EAL\n",
    "$$ L_{TH} = \\lambda_{in}(1-0.738\\omega) $$\n",
    "\n",
    "See previous ref"
   ]
  },
  {
   "cell_type": "markdown",
   "metadata": {},
   "source": [
    "If elastic scattering effects are taken into account:\n",
    "$$ I_f = I_0 \\exp{\\left(-\\frac{d_A \\cos\\theta}{L_{TH}} \\right)}, $$\n"
   ]
  },
  {
   "cell_type": "markdown",
   "metadata": {},
   "source": [
    "## Cu 2p: EAL 1.85 nm"
   ]
  },
  {
   "cell_type": "code",
   "execution_count": 23,
   "metadata": {},
   "outputs": [],
   "source": [
    "mfp_cu = 1.88 * nm"
   ]
  },
  {
   "cell_type": "code",
   "execution_count": 24,
   "metadata": {},
   "outputs": [
    {
     "data": {
      "text/plain": [
       "(1.8572915969636066, 1.88)"
      ]
     },
     "execution_count": 24,
     "metadata": {},
     "output_type": "execute_result"
    }
   ],
   "source": [
    "eal_cu = mfp_cu*(1-0.738*w_cu)\n",
    "eal_cu / nm , mfp_cu / nm"
   ]
  },
  {
   "cell_type": "code",
   "execution_count": 26,
   "metadata": {},
   "outputs": [
    {
     "data": {
      "text/plain": [
       "0.012078937785315583"
      ]
     },
     "execution_count": 26,
     "metadata": {},
     "output_type": "execute_result"
    }
   ],
   "source": [
    "(mfp_cu - eal_cu)/mfp_cu"
   ]
  },
  {
   "cell_type": "markdown",
   "metadata": {},
   "source": [
    "##### 1% error"
   ]
  },
  {
   "cell_type": "markdown",
   "metadata": {},
   "source": [
    "## Si 2p: EAL 3.84 nm"
   ]
  },
  {
   "cell_type": "code",
   "execution_count": 27,
   "metadata": {},
   "outputs": [],
   "source": [
    "mfp_si = 3.94 * nm"
   ]
  },
  {
   "cell_type": "code",
   "execution_count": 30,
   "metadata": {},
   "outputs": [
    {
     "data": {
      "text/plain": [
       "(3.841000907923239, 3.94)"
      ]
     },
     "execution_count": 30,
     "metadata": {},
     "output_type": "execute_result"
    }
   ],
   "source": [
    "eal_si = mfp_si*(1-0.738*w_si)\n",
    "eal_si / nm , mfp_si / nm"
   ]
  },
  {
   "cell_type": "code",
   "execution_count": 31,
   "metadata": {},
   "outputs": [
    {
     "data": {
      "text/plain": [
       "0.025126673115929078"
      ]
     },
     "execution_count": 31,
     "metadata": {},
     "output_type": "execute_result"
    }
   ],
   "source": [
    "(mfp_si - eal_si)/mfp_si"
   ]
  },
  {
   "cell_type": "markdown",
   "metadata": {},
   "source": [
    "##### 2.5 % error"
   ]
  },
  {
   "cell_type": "markdown",
   "metadata": {},
   "source": [
    "## In 3d: EAL 3.05 nm"
   ]
  },
  {
   "cell_type": "code",
   "execution_count": 15,
   "metadata": {},
   "outputs": [],
   "source": [
    "mfp_in = 3.12 * nm"
   ]
  },
  {
   "cell_type": "code",
   "execution_count": 16,
   "metadata": {},
   "outputs": [
    {
     "data": {
      "text/plain": [
       "(3.05747750695236, 3.12)"
      ]
     },
     "execution_count": 16,
     "metadata": {},
     "output_type": "execute_result"
    }
   ],
   "source": [
    "eal_in = mfp_in*(1-0.738*w_in)\n",
    "eal_in / nm , mfp_in / nm"
   ]
  },
  {
   "cell_type": "code",
   "execution_count": 17,
   "metadata": {},
   "outputs": [
    {
     "data": {
      "text/plain": [
       "0.020039260592192333"
      ]
     },
     "execution_count": 17,
     "metadata": {},
     "output_type": "execute_result"
    }
   ],
   "source": [
    "(mfp_in - eal_in)/mfp_in"
   ]
  },
  {
   "cell_type": "markdown",
   "metadata": {
    "heading_collapsed": true
   },
   "source": [
    "##### 2 % error"
   ]
  },
  {
   "cell_type": "markdown",
   "metadata": {},
   "source": [
    "## Au 4f: EAL 3.87 nm"
   ]
  },
  {
   "cell_type": "code",
   "execution_count": 28,
   "metadata": {},
   "outputs": [],
   "source": [
    "mfp_au = 3.977 * nm"
   ]
  },
  {
   "cell_type": "code",
   "execution_count": 29,
   "metadata": {},
   "outputs": [
    {
     "data": {
      "text/plain": [
       "(3.876336438110986, 3.9769999999999994)"
      ]
     },
     "execution_count": 29,
     "metadata": {},
     "output_type": "execute_result"
    }
   ],
   "source": [
    "eal_au = mfp_au*(1-0.738*w_au)\n",
    "eal_au / nm , mfp_au / nm"
   ]
  },
  {
   "cell_type": "code",
   "execution_count": 30,
   "metadata": {},
   "outputs": [
    {
     "data": {
      "text/plain": [
       "0.025311431201662966"
      ]
     },
     "execution_count": 30,
     "metadata": {},
     "output_type": "execute_result"
    }
   ],
   "source": [
    "(mfp_au - eal_au)/mfp_au"
   ]
  },
  {
   "cell_type": "markdown",
   "metadata": {
    "heading_collapsed": true
   },
   "source": [
    "##### 2.5 % error"
   ]
  },
  {
   "cell_type": "markdown",
   "metadata": {},
   "source": [
    "# MED and ID: "
   ]
  },
  {
   "cell_type": "markdown",
   "metadata": {},
   "source": [
    "## MED\n",
    "$$ D = \\lambda_{in} \\cos\\alpha(1-0.736\\omega) $$\n",
    "With $\\alpha$ is the phtoelectron emission angle wrt the surface normal (takeoff angle)"
   ]
  },
  {
   "cell_type": "code",
   "execution_count": 32,
   "metadata": {},
   "outputs": [
    {
     "data": {
      "text/plain": [
       "1.8291357697450488"
      ]
     },
     "execution_count": 32,
     "metadata": {},
     "output_type": "execute_result"
    }
   ],
   "source": [
    "costh = np.cos(10*np.pi/180)\n",
    "\n",
    "D = mfp_cu*costh*(1-0.736*w_cu)\n",
    "D / nm"
   ]
  },
  {
   "cell_type": "markdown",
   "metadata": {},
   "source": [
    "## ID\n",
    "The Information Depth (ID) $\\Sigma$ is the depth from which $P$\\% of the detected signal originates:\n",
    "$$ \\Sigma = \\lambda_{in}\\cos\\alpha \\log\\left[ \\frac{1}{1-P/100} \\right] $$\n",
    "\n",
    "This expression is valid only if elastic-scattering effects are neglected. Otherwise the average ID, $S$ is\n",
    "\n",
    "$$ S = \\Sigma(1-0.787\\omega) $$"
   ]
  },
  {
   "cell_type": "code",
   "execution_count": 33,
   "metadata": {},
   "outputs": [
    {
     "data": {
      "text/plain": [
       "8.526189729831279"
      ]
     },
     "execution_count": 33,
     "metadata": {},
     "output_type": "execute_result"
    }
   ],
   "source": [
    "P = 0.99\n",
    "ID = mfp_cu * costh * np.log(1/(1-P))\n",
    "ID / nm"
   ]
  },
  {
   "cell_type": "code",
   "execution_count": 34,
   "metadata": {},
   "outputs": [
    {
     "data": {
      "text/plain": [
       "8.416364503360898"
      ]
     },
     "execution_count": 34,
     "metadata": {},
     "output_type": "execute_result"
    }
   ],
   "source": [
    "S = ID*(1-0.787*w_cu)\n",
    "S / nm"
   ]
  },
  {
   "cell_type": "markdown",
   "metadata": {},
   "source": [
    "# For BaCl$_2$"
   ]
  },
  {
   "cell_type": "markdown",
   "metadata": {},
   "source": [
    "For Cu 2p energy (554.5 eV),\n",
    "\n",
    "TTP2M yields IMFP = 14.70 Å (from TPP2M sw compound database # 203 )\n",
    "\n",
    "16 valence atoms, 206 amu atomic mass, 3.86 g/cm3, 0 band gap energy"
   ]
  },
  {
   "cell_type": "markdown",
   "metadata": {},
   "source": [
    "For In 3d energy (1041.6 eV),\n",
    "\n",
    "TTP2M yields IMFP = 23.62 Å (from compound database)"
   ]
  },
  {
   "cell_type": "markdown",
   "metadata": {},
   "source": [
    "For Au 4f energy (1402.6 eV),\n",
    "\n",
    "TTP2M yields IMFP = 29.80 Å (from compound database)"
   ]
  },
  {
   "cell_type": "code",
   "execution_count": 19,
   "metadata": {
    "cell_style": "split"
   },
   "outputs": [],
   "source": [
    "mfp_bacl = 1.47 * nm"
   ]
  },
  {
   "cell_type": "code",
   "execution_count": 21,
   "metadata": {
    "cell_style": "split"
   },
   "outputs": [],
   "source": [
    "mfp_bacl_au = 2.98 * nm"
   ]
  },
  {
   "cell_type": "markdown",
   "metadata": {},
   "source": [
    "## TRMFP\n",
    "From SESSA (Sample -> Substrate: Cu, Layer 1: BA/CL2/ -> Parameters)"
   ]
  },
  {
   "cell_type": "code",
   "execution_count": 17,
   "metadata": {},
   "outputs": [],
   "source": [
    "trmfp_bacl = 12.5091 * nm"
   ]
  },
  {
   "cell_type": "markdown",
   "metadata": {},
   "source": [
    "## Single scattering albedo"
   ]
  },
  {
   "cell_type": "code",
   "execution_count": 20,
   "metadata": {
    "cell_style": "split",
    "scrolled": true
   },
   "outputs": [
    {
     "data": {
      "text/plain": [
       "0.10515698435521599"
      ]
     },
     "execution_count": 20,
     "metadata": {},
     "output_type": "execute_result"
    }
   ],
   "source": [
    "w_bacl = mfp_bacl/(mfp_bacl + trmfp_bacl)\n",
    "w_bacl"
   ]
  },
  {
   "cell_type": "code",
   "execution_count": 22,
   "metadata": {
    "cell_style": "split",
    "scrolled": true
   },
   "outputs": [
    {
     "data": {
      "text/plain": [
       "0.19239336049221709"
      ]
     },
     "execution_count": 22,
     "metadata": {},
     "output_type": "execute_result"
    }
   ],
   "source": [
    "w_bacl_au = mfp_bacl_au/(mfp_bacl_au + trmfp_bacl)\n",
    "w_bacl_au"
   ]
  },
  {
   "cell_type": "markdown",
   "metadata": {},
   "source": [
    "## EAL Cu 2p = 1.35 nm, EAL Au 4f = 2.55 nm"
   ]
  },
  {
   "cell_type": "code",
   "execution_count": 23,
   "metadata": {
    "cell_style": "split"
   },
   "outputs": [
    {
     "data": {
      "text/plain": [
       "(1.3559193939524006, 1.47)"
      ]
     },
     "execution_count": 23,
     "metadata": {},
     "output_type": "execute_result"
    }
   ],
   "source": [
    "eal_bacl = mfp_bacl*(1-0.738*w_bacl)\n",
    "eal_bacl / nm , mfp_bacl / nm"
   ]
  },
  {
   "cell_type": "code",
   "execution_count": 25,
   "metadata": {
    "cell_style": "split"
   },
   "outputs": [
    {
     "data": {
      "text/plain": [
       "(2.556880825871097, 2.98)"
      ]
     },
     "execution_count": 25,
     "metadata": {},
     "output_type": "execute_result"
    }
   ],
   "source": [
    "eal_bacl_au = mfp_bacl_au*(1-0.738*w_bacl_au)\n",
    "eal_bacl_au / nm , mfp_bacl_au / nm"
   ]
  },
  {
   "cell_type": "markdown",
   "metadata": {},
   "source": [
    "# For NaCl"
   ]
  },
  {
   "cell_type": "markdown",
   "metadata": {},
   "source": [
    "For Cu 2p energy (554.5 eV),\n",
    "\n",
    "TTP2M yields IMFP = 18.64 Å (from TPP2M compound database #414)\n",
    "\n",
    "8 valence atoms, 58.4 amu atomic mass, 2.17 g/cm3, 7.42 band gap energy"
   ]
  },
  {
   "cell_type": "markdown",
   "metadata": {},
   "source": [
    "For Au 4f energy (1402.5 eV),\n",
    "\n",
    "TTP2M yields IMFP = 38.12 Å (from TPP2M compound database #414)"
   ]
  },
  {
   "cell_type": "markdown",
   "metadata": {
    "heading_collapsed": true
   },
   "source": [
    "# For Squarate ($C_4O_4^{2-}$)"
   ]
  },
  {
   "cell_type": "markdown",
   "metadata": {
    "hidden": true
   },
   "source": [
    "For Cu 2p energy with Mg K-alpha radiation (320.6 eV),\n",
    "\n",
    "TTP2M yields IMFP = [ [0.609, 0.616, 0.638, 2.429]]\n",
    "\n",
    "40 valence atoms, 112 amu atomic mass, 3.86 g/cm3, [0, 5, 10, 50] band gap energy\n",
    "\n",
    "Density calculated for a cell of 8 molecules in a 1.4 x 1.4 nm2 area and a thickness of 1 Å"
   ]
  },
  {
   "cell_type": "code",
   "execution_count": 2,
   "metadata": {
    "hidden": true
   },
   "outputs": [
    {
     "data": {
      "text/plain": [
       "320.5999999999999"
      ]
     },
     "execution_count": 2,
     "metadata": {},
     "output_type": "execute_result"
    }
   ],
   "source": [
    "be = 933\n",
    "mgal = 1253.6\n",
    "ke = mgal - be\n",
    "ke"
   ]
  },
  {
   "cell_type": "code",
   "execution_count": 3,
   "metadata": {
    "hidden": true
   },
   "outputs": [
    {
     "data": {
      "text/plain": [
       "112"
      ]
     },
     "execution_count": 3,
     "metadata": {},
     "output_type": "execute_result"
    }
   ],
   "source": [
    "mass = 4*12 + 4*16  # amu\n",
    "mass"
   ]
  },
  {
   "cell_type": "code",
   "execution_count": 1,
   "metadata": {
    "hidden": true
   },
   "outputs": [
    {
     "data": {
      "text/plain": [
       "40"
      ]
     },
     "execution_count": 1,
     "metadata": {},
     "output_type": "execute_result"
    }
   ],
   "source": [
    "eC = 4\n",
    "eO = 6\n",
    "\n",
    "eSQ = 4*eC + 4*eO\n",
    "eSQ"
   ]
  },
  {
   "cell_type": "code",
   "execution_count": 5,
   "metadata": {
    "hidden": true
   },
   "outputs": [
    {
     "data": {
      "text/plain": [
       "10.627456000000002"
      ]
     },
     "execution_count": 5,
     "metadata": {},
     "output_type": "execute_result"
    }
   ],
   "source": [
    "# Suppose a thickness of 0.1 nm\n",
    "nm = 1e-7 # cm\n",
    "density = 8*mass * 1.66054e-24 / (1.4 * 0.1 * nm**3)  # g / cm3\n",
    "density"
   ]
  },
  {
   "cell_type": "code",
   "execution_count": 12,
   "metadata": {
    "hidden": true
   },
   "outputs": [],
   "source": [
    "Eg = [0, 5, 10, 50] # Band gap energy in eV\n",
    "imfp = np.array([0.609, 0.616, 0.638, 2.429])  # IMFP in nm"
   ]
  },
  {
   "cell_type": "code",
   "execution_count": 14,
   "metadata": {
    "hidden": true
   },
   "outputs": [
    {
     "data": {
      "text/plain": [
       "array([0.1435549 , 0.14520496, 0.15039085, 0.57256955])"
      ]
     },
     "execution_count": 14,
     "metadata": {},
     "output_type": "execute_result"
    }
   ],
   "source": [
    "# 79 % Cu 2p attenuation:\n",
    "I_ratio = 1/0.79\n",
    "thick = imfp*np.log(I_ratio)\n",
    "thick"
   ]
  },
  {
   "cell_type": "code",
   "execution_count": 17,
   "metadata": {
    "hidden": true
   },
   "outputs": [
    {
     "data": {
      "text/plain": [
       "0.7268105283566318"
      ]
     },
     "execution_count": 17,
     "metadata": {},
     "output_type": "execute_result"
    }
   ],
   "source": [
    "1.85 * np.log(I_ratio) / 0.6"
   ]
  },
  {
   "cell_type": "markdown",
   "metadata": {
    "hidden": true
   },
   "source": [
    "##### Their fit to O 1s have components \n",
    "531.4 eV for C - O / = O\n",
    "\n",
    "533.4 eV for C - OH"
   ]
  },
  {
   "cell_type": "markdown",
   "metadata": {
    "hidden": true
   },
   "source": [
    "##### Fit to C 1s is on \n",
    "\n",
    "286.3 ± 0.1 eV for C-O / C=O\n",
    "\n",
    "287.0 for C-OH"
   ]
  },
  {
   "cell_type": "markdown",
   "metadata": {},
   "source": [
    "# For APTES\n",
    "\n",
    "Formula: $C_9H_{23}NO_3Si$\n",
    "\n",
    "Boiling point: 217 °C; Melting point: −70 °C (−94 °F; 203 K)\n",
    "\n",
    "Molar mass: 221.372 g·mol−1\n",
    "\n",
    "Density: 0.946 g/mL (https://www.gelest.com/product/sia0610-0/), (https://www.sigmaaldrich.com/ES/es/product/aldrich/440140?context=product)\n",
    "\n",
    "Molec density (SESSA) = 4.96e22 #/mL"
   ]
  },
  {
   "cell_type": "code",
   "execution_count": 12,
   "metadata": {},
   "outputs": [
    {
     "data": {
      "text/plain": [
       "(18.20259050149452, 0.051970624726317326)"
      ]
     },
     "execution_count": 12,
     "metadata": {},
     "output_type": "execute_result"
    }
   ],
   "source": [
    "Na = 6.022e23\n",
    "pred_rho = 4.96e22 / Na * 221\n",
    "factor = 0.946/pred_rho\n",
    "pred_rho, factor"
   ]
  },
  {
   "cell_type": "markdown",
   "metadata": {},
   "source": [
    "##### Number of electrons"
   ]
  },
  {
   "cell_type": "code",
   "execution_count": 2,
   "metadata": {},
   "outputs": [
    {
     "data": {
      "text/plain": [
       "86"
      ]
     },
     "execution_count": 2,
     "metadata": {},
     "output_type": "execute_result"
    }
   ],
   "source": [
    "eC = 4\n",
    "eO = 6\n",
    "eH = 1\n",
    "eN = 5\n",
    "eSi = 4\n",
    "eAPTES = 9*eC + 23*eH + 1*eN + 3*eO + eSi\n",
    "eAPTES"
   ]
  },
  {
   "cell_type": "markdown",
   "metadata": {},
   "source": [
    "##### Molar mass"
   ]
  },
  {
   "cell_type": "code",
   "execution_count": 5,
   "metadata": {},
   "outputs": [
    {
     "data": {
      "text/plain": [
       "221"
      ]
     },
     "execution_count": 5,
     "metadata": {},
     "output_type": "execute_result"
    }
   ],
   "source": [
    "wC = 12\n",
    "wO = 16\n",
    "wH = 1\n",
    "wN = 14\n",
    "wSi = 28\n",
    "wAPTwS = 9*wC + 23*wH + 1*wN + 3*wO + wSi\n",
    "wAPTwS"
   ]
  },
  {
   "cell_type": "markdown",
   "metadata": {},
   "source": [
    "## IMFP =  28.78 Å  for E = 1041.6 eV (In 3d 5/2) (TPP2M)\n",
    "\n",
    "IMFP 17.39 Å for E = 544 eV (Cu 2p)\n"
   ]
  },
  {
   "cell_type": "markdown",
   "metadata": {},
   "source": [
    "## Reacted APTES\n",
    "\n",
    "Formula: $C_3H_8NO_3Si$\n",
    "\n",
    "Boiling point: 217 °C; Melting point: −70 °C (−94 °F; 203 K)\n",
    "\n",
    "Molar mass: 134 g·mol−1\n",
    "\n",
    "Density: 0.568 g/mL (estimated)\n",
    "\n",
    "Molec density (SESSA) = 4.91e22 #/cm3"
   ]
  },
  {
   "cell_type": "code",
   "execution_count": 14,
   "metadata": {},
   "outputs": [
    {
     "data": {
      "text/plain": [
       "(10.925606110926601, 0.5678105750985257, 18.20259050149452)"
      ]
     },
     "execution_count": 14,
     "metadata": {},
     "output_type": "execute_result"
    }
   ],
   "source": [
    "Na = 6.022e23\n",
    "pred_rho2 = 4.91e22 / Na * 134\n",
    "\n",
    "pred_rho2, pred_rho2 * factor, pred_rho"
   ]
  },
  {
   "cell_type": "markdown",
   "metadata": {},
   "source": [
    "##### Number of electrons"
   ]
  },
  {
   "cell_type": "code",
   "execution_count": 3,
   "metadata": {},
   "outputs": [
    {
     "data": {
      "text/plain": [
       "47"
      ]
     },
     "execution_count": 3,
     "metadata": {},
     "output_type": "execute_result"
    }
   ],
   "source": [
    "eC = 4\n",
    "eO = 6\n",
    "eH = 1\n",
    "eN = 5\n",
    "eSi = 4\n",
    "erAPTES = 3*eC + 8*eH + 1*eN + 3*eO + eSi\n",
    "erAPTES"
   ]
  },
  {
   "cell_type": "markdown",
   "metadata": {},
   "source": [
    "##### Molar mass"
   ]
  },
  {
   "cell_type": "code",
   "execution_count": 4,
   "metadata": {},
   "outputs": [
    {
     "data": {
      "text/plain": [
       "134"
      ]
     },
     "execution_count": 4,
     "metadata": {},
     "output_type": "execute_result"
    }
   ],
   "source": [
    "wC = 12\n",
    "wO = 16\n",
    "wH = 1\n",
    "wN = 14\n",
    "wSi = 28\n",
    "wrAPTwS = 3*wC + 8*wH + 1*wN + 3*wO + wSi\n",
    "wrAPTwS"
   ]
  },
  {
   "cell_type": "markdown",
   "metadata": {},
   "source": [
    "## Reacted APTES: IMFP =  29.68 Å  for E = 1041.6 eV (In 3d 5/2) (TPP2M)\n",
    "Not a huge change with respect to unreacted.\n",
    "\n",
    "- Checked for same bulk density as unreacted (0.946 g/mL) and estimated from constant number density and different molar mass: 0.568 g/mL. Almost same result\n"
   ]
  },
  {
   "cell_type": "markdown",
   "metadata": {},
   "source": [
    "# For AUTES\n",
    "\n",
    "Formula: $C_{17}H_{39}NO_3Si$\n",
    "\n",
    "Molar mass: 333.59 g·mol−1\n",
    "\n",
    "Density: 0.895 g/mL\n",
    "(https://www.gelest.com/product/SIA0630.0/)"
   ]
  },
  {
   "cell_type": "code",
   "execution_count": 16,
   "metadata": {},
   "outputs": [
    {
     "data": {
      "text/plain": [
       "134"
      ]
     },
     "execution_count": 16,
     "metadata": {},
     "output_type": "execute_result"
    }
   ],
   "source": [
    "eC = 4\n",
    "eO = 6\n",
    "eH = 1\n",
    "eN = 5\n",
    "eSi = 4\n",
    "eAUTES = 17*eC + 39*eH + 1*eN + 3*eO + eSi\n",
    "eAUTES"
   ]
  },
  {
   "cell_type": "code",
   "execution_count": 22,
   "metadata": {},
   "outputs": [
    {
     "data": {
      "text/plain": [
       "333"
      ]
     },
     "execution_count": 22,
     "metadata": {},
     "output_type": "execute_result"
    }
   ],
   "source": [
    "wC = 12\n",
    "wO = 16\n",
    "wH = 1\n",
    "wN = 14\n",
    "wSi = 28\n",
    "wAUTES = 17*wC + 39*wH + 1*wN + 3*wO + wSi\n",
    "wAUTES"
   ]
  },
  {
   "cell_type": "markdown",
   "metadata": {},
   "source": [
    "## IMFP =  29.02 Å  for E = 1041.6 eV (In 3d 5/2) (TPP2M)"
   ]
  },
  {
   "cell_type": "markdown",
   "metadata": {},
   "source": [
    "# Ru++ fluorophore IMFP = 2.83 nm (SESSA)\n",
    "For E = 1041.6 eV (In 3d 5/2)\n",
    "\n",
    "$$[C_{32}H_{24}N_6O_4Ru]^{++}$$\n",
    "\n",
    "Molar mass: 657 g/mol\n",
    "\n",
    "Density: No data"
   ]
  },
  {
   "cell_type": "code",
   "execution_count": 23,
   "metadata": {},
   "outputs": [
    {
     "data": {
      "text/plain": [
       "657"
      ]
     },
     "execution_count": 23,
     "metadata": {},
     "output_type": "execute_result"
    }
   ],
   "source": [
    "wRu = 101\n",
    "wRuf = 32*wC + 24*wH + 6*wN + 4*wO + wRu\n",
    "wRuf"
   ]
  },
  {
   "cell_type": "markdown",
   "metadata": {},
   "source": [
    "### Error concentration measurement"
   ]
  },
  {
   "cell_type": "code",
   "execution_count": 2,
   "metadata": {},
   "outputs": [],
   "source": [
    "import numpy as np"
   ]
  },
  {
   "cell_type": "code",
   "execution_count": 1,
   "metadata": {},
   "outputs": [
    {
     "ename": "SyntaxError",
     "evalue": "invalid character in identifier (<ipython-input-1-bdb7f23f64a2>, line 1)",
     "output_type": "error",
     "traceback": [
      "\u001b[0;36m  File \u001b[0;32m\"<ipython-input-1-bdb7f23f64a2>\"\u001b[0;36m, line \u001b[0;32m1\u001b[0m\n\u001b[0;31m    ∆e\u001b[0m\n\u001b[0m     ^\u001b[0m\n\u001b[0;31mSyntaxError\u001b[0m\u001b[0;31m:\u001b[0m invalid character in identifier\n"
     ]
    }
   ],
   "source": [
    "M = 657\n",
    "uC = np.sqrt( (1/10*1e-6/M)**2 +  )"
   ]
  },
  {
   "cell_type": "code",
   "execution_count": 5,
   "metadata": {},
   "outputs": [
    {
     "data": {
      "text/plain": [
       "0.00015220700152207"
      ]
     },
     "execution_count": 5,
     "metadata": {},
     "output_type": "execute_result"
    }
   ],
   "source": [
    "C = 1e-4/M/1e-3\n",
    "C # mol/L"
   ]
  },
  {
   "cell_type": "markdown",
   "metadata": {},
   "source": [
    "# Ir+ fluorophore IMFP = 2.78 nm (SESSA)\n",
    "For E = 1041.6 eV (In 3d 5/2)\n",
    "\n",
    "$$[C_{34}H_{24}N_4O_4Ir]^+$$\n",
    "Molar mass: 744 g/mol"
   ]
  },
  {
   "cell_type": "code",
   "execution_count": 24,
   "metadata": {},
   "outputs": [
    {
     "data": {
      "text/plain": [
       "744"
      ]
     },
     "execution_count": 24,
     "metadata": {},
     "output_type": "execute_result"
    }
   ],
   "source": [
    "wIr = 192\n",
    "wIrf = 34*wC + 24*wH + 4*wN + 4*wO + wIr\n",
    "wIrf"
   ]
  },
  {
   "cell_type": "markdown",
   "metadata": {},
   "source": [
    "# Acid-DecFBI IMFP = 1.96 nm (SESSA)\n",
    "For E = 1041.6 eV (In 3d 5/2)\n",
    "\n",
    "(Decapitated FBI + acid group linker)\n",
    "$$[C_{20}H_{12}N_2O_2Br]$$\n",
    "\n",
    "Molar mass: 392 g/mol\n",
    "\n",
    "Valence electrons: 121\n",
    "\n",
    "Density (assuming same radius as FBI): 0.395 g/mol"
   ]
  },
  {
   "cell_type": "code",
   "execution_count": 29,
   "metadata": {},
   "outputs": [
    {
     "data": {
      "text/plain": [
       "121"
      ]
     },
     "execution_count": 29,
     "metadata": {},
     "output_type": "execute_result"
    }
   ],
   "source": [
    "eBr = 7\n",
    "edecFBI = 20*eC + 12*eH + 2*eN + 2*eO + eBr\n",
    "edecFBI"
   ]
  },
  {
   "cell_type": "code",
   "execution_count": 30,
   "metadata": {},
   "outputs": [
    {
     "data": {
      "text/plain": [
       "391.9"
      ]
     },
     "execution_count": 30,
     "metadata": {},
     "output_type": "execute_result"
    }
   ],
   "source": [
    "wBr = 79.9\n",
    "wdecFBI = 20*wC + 12*wH + 2*wN +2*wO + wBr\n",
    "wdecFBI"
   ]
  },
  {
   "cell_type": "markdown",
   "metadata": {},
   "source": [
    "##### Mass density"
   ]
  },
  {
   "cell_type": "code",
   "execution_count": 31,
   "metadata": {},
   "outputs": [
    {
     "data": {
      "text/plain": [
       "0.39452331225485626"
      ]
     },
     "execution_count": 31,
     "metadata": {},
     "output_type": "execute_result"
    }
   ],
   "source": [
    "Na = 6.023e23\n",
    "M = 392     # [g/mol] molar mass\n",
    "R = 7.33e-8 # cm or 0.733 nm, from Fernando's calculation, globularity 1\n",
    "rho = M/Na/(4*np.pi/3*R**3)\n",
    "rho    # g / cm3"
   ]
  },
  {
   "cell_type": "markdown",
   "metadata": {},
   "source": [
    "##  IMFP = 34.09 Å (TPP2M)\n",
    "For E = 1041.6 eV (In 3d 5/2)\n",
    "\n",
    "Very similar result to 31.12 Å for FBI\n"
   ]
  },
  {
   "cell_type": "code",
   "execution_count": 32,
   "metadata": {},
   "outputs": [
    {
     "data": {
      "text/plain": [
       "19.7"
      ]
     },
     "execution_count": 32,
     "metadata": {},
     "output_type": "execute_result"
    }
   ],
   "source": [
    "l1 = 19.4\n",
    "l2 = 20.0\n",
    "lm = 19.5\n",
    "(l1 + l2)/2"
   ]
  },
  {
   "cell_type": "markdown",
   "metadata": {},
   "source": [
    "# Tectomer  IMFP = 3.88 nm (TPP2M) IMFP = 2.93 nm (SESSA)\n",
    "2-tailed oligoglycine)\n",
    "\n",
    "C8H16(-CH2-NH-(C2H5NO2)5)2 * 2 HCl\n",
    "\n",
    "For E = 1041.6 eV (In 3d 5/2)\n",
    "\n",
    "Assume ρ = 3 g/cm3\n",
    "\n",
    "Molar mass: 944 g/mol\n",
    "\n",
    "Valence electrons: 380"
   ]
  },
  {
   "cell_type": "code",
   "execution_count": 4,
   "metadata": {},
   "outputs": [
    {
     "data": {
      "text/plain": [
       "380"
      ]
     },
     "execution_count": 4,
     "metadata": {},
     "output_type": "execute_result"
    }
   ],
   "source": [
    "eC = 4\n",
    "eO = 6\n",
    "eH = 1\n",
    "eN = 5\n",
    "eTect = 32*eC + 72*eH + 12*eN + 20*eO\n",
    "eTect"
   ]
  },
  {
   "cell_type": "code",
   "execution_count": 5,
   "metadata": {},
   "outputs": [
    {
     "data": {
      "text/plain": [
       "944"
      ]
     },
     "execution_count": 5,
     "metadata": {},
     "output_type": "execute_result"
    }
   ],
   "source": [
    "wC = 12\n",
    "wO = 16\n",
    "wH = 1\n",
    "wN = 14\n",
    "wTwct = 32*wC + 72*wH + 12*wN + 20*wO\n",
    "wTwct"
   ]
  },
  {
   "cell_type": "markdown",
   "metadata": {},
   "source": [
    "# Acid-DecFBI IMFP = 1.96 nm (SESSA)\n",
    "For E = 1041.6 eV (In 3d 5/2)\n",
    "\n",
    "(Decapitated FBI + acid group linker)\n",
    "$$[C_{20}H_{12}N_2O_2Br]$$\n",
    "\n",
    "Molar mass: 392 g/mol\n",
    "\n",
    "Valence electrons: 121\n",
    "\n",
    "Density (assuming same radius as FBI): 0.395 g/mol"
   ]
  },
  {
   "cell_type": "markdown",
   "metadata": {},
   "source": [
    "# FBI-G3"
   ]
  },
  {
   "cell_type": "markdown",
   "metadata": {},
   "source": [
    "## Parameters for TPP2M calculation"
   ]
  },
  {
   "cell_type": "markdown",
   "metadata": {},
   "source": [
    "##### Valence Electrons"
   ]
  },
  {
   "cell_type": "code",
   "execution_count": 1,
   "metadata": {},
   "outputs": [
    {
     "data": {
      "text/plain": [
       "232"
      ]
     },
     "execution_count": 1,
     "metadata": {},
     "output_type": "execute_result"
    }
   ],
   "source": [
    "eC = 4\n",
    "eO = 6\n",
    "eH = 1\n",
    "eN = 5\n",
    "\n",
    "eFBI = 38*eC + 35*eH + 3*eN + 5*eO\n",
    "eFBI"
   ]
  },
  {
   "cell_type": "markdown",
   "metadata": {},
   "source": [
    "##### Atomic mass"
   ]
  },
  {
   "cell_type": "code",
   "execution_count": 3,
   "metadata": {},
   "outputs": [
    {
     "data": {
      "text/plain": [
       "620"
      ]
     },
     "execution_count": 3,
     "metadata": {},
     "output_type": "execute_result"
    }
   ],
   "source": [
    "wC = 12\n",
    "wO = 16\n",
    "wH = 1\n",
    "wN = 14\n",
    "\n",
    "wFBIg3 = 38*wC + 42*wH + 3*wN + 5*wO\n",
    "wFBIg3"
   ]
  },
  {
   "cell_type": "markdown",
   "metadata": {},
   "source": [
    "##### Gap energy: assume same as STM measurement, 3.0 eV"
   ]
  },
  {
   "cell_type": "markdown",
   "metadata": {},
   "source": [
    "##### Bulk density: assume molecular radius same as FBI-G1"
   ]
  },
  {
   "cell_type": "code",
   "execution_count": 6,
   "metadata": {},
   "outputs": [
    {
     "data": {
      "text/plain": [
       "0.6239909530561502"
      ]
     },
     "execution_count": 6,
     "metadata": {},
     "output_type": "execute_result"
    }
   ],
   "source": [
    "Na = 6.023e23\n",
    "M = 620     # [g/mol] molar mass\n",
    "R = 7.33e-8 # cm or 0.733 nm, from Fernando's calculation, globularity 1\n",
    "rho = M/Na/(4*np.pi/3*R**3)\n",
    "rho    # g / cm3"
   ]
  },
  {
   "cell_type": "markdown",
   "metadata": {},
   "source": [
    "##### Au 4f 5/2 (1402.6 eV): TPP-2M formula yields $\\lambda_{in}$ = 38.93 Å\n",
    "This takes into account E$_{gap}$ = 3.0 eV.  (STM measurement)\n",
    "\n",
    "Mind also that 1402.61 is the KE corresponding to BE = 84 eV (Au 4f 5/2) for Al K $\\alpha$ radiation of 1486.6 eV"
   ]
  },
  {
   "cell_type": "markdown",
   "metadata": {
    "heading_collapsed": true
   },
   "source": [
    "## Transport Mean Free Path\n",
    "$$\\lambda_t = \\left(N \\displaystyle\\sum_{k=1}^n x_k \\sigma_{t,k} \\right)^{-1},$$\n",
    "where $N$ is the density of atoms in the solid, $x_k$ is the atom fraction of the kth species having a Transport Cross Section (TCS) $\\sigma_{t,k}$\n",
    "\n",
    "Ref:  C.J. Powell, A. Jablonski \"Surface sensitivity of X-ray photoelectron spectroscopy\", Nuclear Instruments and Methods in Physics Research A 601 (2009) 54–65, doi:10.1016/j.nima.2008.12.103\n"
   ]
  },
  {
   "cell_type": "code",
   "execution_count": 7,
   "metadata": {
    "hidden": true
   },
   "outputs": [],
   "source": [
    "from invisible_cities.core.system_of_units import nm, m2"
   ]
  },
  {
   "cell_type": "code",
   "execution_count": 8,
   "metadata": {
    "hidden": true
   },
   "outputs": [],
   "source": [
    "a02 = 2.8e-21 * m2\n",
    "sigma_C = 1.047 * a02 # With initial e- energy 286 eV\n",
    "sigma_O = 5.908 * a02 # With initial e- energy 532 eV\n",
    "sigma_N = 0.769 * a02 # With initial e- energy 400 eV\n",
    "sigma_H = 0.315 * a02 # With initial e- energy 100 eV"
   ]
  },
  {
   "cell_type": "code",
   "execution_count": 11,
   "metadata": {
    "hidden": true
   },
   "outputs": [
    {
     "data": {
      "text/plain": [
       "(0.3522727272727273,\n",
       " 0.056818181818181816,\n",
       " 0.03409090909090909,\n",
       " 0.3977272727272727)"
      ]
     },
     "execution_count": 11,
     "metadata": {},
     "output_type": "execute_result"
    }
   ],
   "source": [
    "tot = 38 + 42 + 3 + 5\n",
    "x_C = 31/tot\n",
    "x_O = 5/tot\n",
    "x_N = 3/tot\n",
    "x_H = 35/tot\n",
    "x_C, x_O, x_N, x_H"
   ]
  },
  {
   "cell_type": "code",
   "execution_count": null,
   "metadata": {
    "hidden": true
   },
   "outputs": [],
   "source": [
    "/C0.38/H0.43/O.06/N.04"
   ]
  },
  {
   "cell_type": "markdown",
   "metadata": {
    "heading_collapsed": true
   },
   "source": [
    "## Estimate N atomic density"
   ]
  },
  {
   "cell_type": "code",
   "execution_count": 12,
   "metadata": {
    "hidden": true,
    "scrolled": true
   },
   "outputs": [
    {
     "name": "stdout",
     "output_type": "stream",
     "text": [
      "3.14e+09 molecs per µm3\n",
      "3.14e+21 molecs per cm3\n"
     ]
    }
   ],
   "source": [
    "r_fbi = 0.683 * nm   # from Fernando's calculation, globularity 1\n",
    "V_fbi = r_fbi**3 * 4/3* np.pi\n",
    "\n",
    "V_fov = 4/3*np.pi          # Assume an homogeneous layer of radius 1 mm\n",
    "\n",
    "N_molecs = V_fov / V_fbi # Molecs per mm3\n",
    "print('%.2e molecs per µm3' %(N_molecs / 1e9))\n",
    "print('%.2e molecs per cm3' %(N_molecs * 1e3))"
   ]
  },
  {
   "cell_type": "markdown",
   "metadata": {
    "heading_collapsed": true
   },
   "source": [
    "## TRMFP"
   ]
  },
  {
   "cell_type": "code",
   "execution_count": 13,
   "metadata": {
    "hidden": true
   },
   "outputs": [
    {
     "data": {
      "text/plain": [
       "132.93047287802275"
      ]
     },
     "execution_count": 13,
     "metadata": {},
     "output_type": "execute_result"
    }
   ],
   "source": [
    "suma = sigma_C*x_C + sigma_O*x_O + sigma_N*x_N + sigma_H*x_H\n",
    "trmfp = 1/(N_molecs * suma)\n",
    "trmfp / nm"
   ]
  },
  {
   "cell_type": "code",
   "execution_count": 10,
   "metadata": {
    "hidden": true
   },
   "outputs": [
    {
     "data": {
      "text/plain": [
       "0.0028502864864864874"
      ]
     },
     "execution_count": 10,
     "metadata": {},
     "output_type": "execute_result"
    }
   ],
   "source": [
    "suma / nm / nm"
   ]
  },
  {
   "cell_type": "markdown",
   "metadata": {},
   "source": [
    "## Calculate single-scattering albedo:\n",
    "$$\\omega = \\frac{\\lambda_{in} }{\\lambda_{in} + \\lambda_t } $$\n",
    "\n",
    "Ref: Cedric Powell \"Practical guide for IMFP, EAL, MED and ID in XPS\",\n",
    "\n",
    "J. Vac. Sci. Techol. A 38, 023209 (2020); \n",
    "\n",
    "https://doi.org/10.116/1.5141079"
   ]
  },
  {
   "cell_type": "markdown",
   "metadata": {},
   "source": [
    "### Au 4f: $\\lambda_{in}$ = 3.97 nm"
   ]
  },
  {
   "cell_type": "code",
   "execution_count": 14,
   "metadata": {
    "cell_style": "split"
   },
   "outputs": [],
   "source": [
    "mfp_au = 3.89 * nm"
   ]
  },
  {
   "cell_type": "code",
   "execution_count": 15,
   "metadata": {
    "cell_style": "split",
    "scrolled": true
   },
   "outputs": [
    {
     "data": {
      "text/plain": [
       "0.028431417595435344"
      ]
     },
     "execution_count": 15,
     "metadata": {},
     "output_type": "execute_result"
    }
   ],
   "source": [
    "w_au = mfp_au/(mfp_au + trmfp)\n",
    "w_au"
   ]
  },
  {
   "cell_type": "markdown",
   "metadata": {},
   "source": [
    "## Effective Attenuation Length EAL\n",
    "$$ L_{TH} = \\lambda_{in}(1-0.738\\omega) $$\n",
    "\n",
    "See previous ref"
   ]
  },
  {
   "cell_type": "markdown",
   "metadata": {},
   "source": [
    "If elastic scattering effects are taken into account:\n",
    "$$ I_f = I_0 \\exp{\\left(-\\frac{d_A \\cos\\theta}{L_{TH}} \\right)}, $$\n"
   ]
  },
  {
   "cell_type": "markdown",
   "metadata": {},
   "source": [
    "### Au 4f: EAL 3.80 nm"
   ]
  },
  {
   "cell_type": "code",
   "execution_count": 16,
   "metadata": {},
   "outputs": [],
   "source": [
    "mfp_au = 3.89 * nm"
   ]
  },
  {
   "cell_type": "code",
   "execution_count": 17,
   "metadata": {},
   "outputs": [
    {
     "data": {
      "text/plain": [
       "(3.8083785177386726, 3.89)"
      ]
     },
     "execution_count": 17,
     "metadata": {},
     "output_type": "execute_result"
    }
   ],
   "source": [
    "eal_au = mfp_au*(1-0.738*w_au)\n",
    "eal_au / nm , mfp_au / nm"
   ]
  },
  {
   "cell_type": "code",
   "execution_count": 19,
   "metadata": {},
   "outputs": [
    {
     "data": {
      "text/plain": [
       "0.020982386185431214"
      ]
     },
     "execution_count": 19,
     "metadata": {},
     "output_type": "execute_result"
    }
   ],
   "source": [
    "(mfp_au - eal_au)/mfp_au"
   ]
  },
  {
   "cell_type": "markdown",
   "metadata": {},
   "source": [
    "# ANN205-SL\n",
    "C70 H87 Cl Ir N9 O13 Si2"
   ]
  },
  {
   "cell_type": "markdown",
   "metadata": {},
   "source": [
    "## Parameters for TPP2M calculation"
   ]
  },
  {
   "cell_type": "markdown",
   "metadata": {},
   "source": [
    "##### Valence Electrons"
   ]
  },
  {
   "cell_type": "code",
   "execution_count": 7,
   "metadata": {},
   "outputs": [
    {
     "data": {
      "text/plain": [
       "507"
      ]
     },
     "execution_count": 7,
     "metadata": {},
     "output_type": "execute_result"
    }
   ],
   "source": [
    "eC = 4\n",
    "eO = 6\n",
    "eH = 1\n",
    "eN = 5\n",
    "eIr = 9\n",
    "eSi = 4\n",
    "\n",
    "eANN = 70*eC + 87*eH + 9*eN + 13*eO + 2*eSi + eIr\n",
    "eANN"
   ]
  },
  {
   "cell_type": "markdown",
   "metadata": {},
   "source": [
    "##### Atomic mass"
   ]
  },
  {
   "cell_type": "code",
   "execution_count": 8,
   "metadata": {},
   "outputs": [
    {
     "data": {
      "text/plain": [
       "1509"
      ]
     },
     "execution_count": 8,
     "metadata": {},
     "output_type": "execute_result"
    }
   ],
   "source": [
    "wC = 12\n",
    "wO = 16\n",
    "wH = 1\n",
    "wN = 14\n",
    "wSi = 28\n",
    "wIr = 192\n",
    "\n",
    "wANN = 70*wC + 87*wH + 9*wN + 13*wO + 2*wSi + wIr\n",
    "wANN"
   ]
  },
  {
   "cell_type": "markdown",
   "metadata": {},
   "source": [
    "##### Gap energy: assume same as STM measurement, 3.0 eV"
   ]
  },
  {
   "cell_type": "markdown",
   "metadata": {},
   "source": [
    "##### Bulk density: assume molecular radius same as FBI-G1"
   ]
  },
  {
   "cell_type": "code",
   "execution_count": 11,
   "metadata": {},
   "outputs": [
    {
     "data": {
      "text/plain": [
       "812.9994222668752"
      ]
     },
     "execution_count": 11,
     "metadata": {},
     "output_type": "execute_result"
    }
   ],
   "source": [
    "Na = 6.023e23\n",
    "M = 620     # [g/mol] molar mass\n",
    "V = 1.4*0.76*1.19 * (1e-8)**3 #cm3\n",
    "rho = M/Na/V\n",
    "rho    # g / cm3"
   ]
  },
  {
   "cell_type": "markdown",
   "metadata": {},
   "source": [
    "##### Results are around 0.01 Å for any energy (nonsense), use SESSA:\n",
    "Si 2p:\n",
    "\n",
    "IMFP = 36.3 Å, EMFP = 82.7 Å, TRMP = 1203.1 Å\n",
    "\n",
    "Au 4f 5/2:\n",
    "\n",
    "IMFP = 36.6 Å, EMFP = 823.4 Å, TRMP = 1224.1 Å\n",
    "\n",
    "Cu 3p 3/2:\n",
    "\n",
    "IMFP = 36.8 Å, EMFP = 83.9 Å, TRMP = 1236.3 Å"
   ]
  },
  {
   "cell_type": "markdown",
   "metadata": {},
   "source": [
    "##### Single Scattering Albedo"
   ]
  },
  {
   "cell_type": "code",
   "execution_count": 14,
   "metadata": {},
   "outputs": [],
   "source": [
    "mfp_si = 36.3\n",
    "trmfp_si = 1203"
   ]
  },
  {
   "cell_type": "code",
   "execution_count": 15,
   "metadata": {},
   "outputs": [],
   "source": [
    "w_si = mfp_si/(mfp_si + trmfp_si)"
   ]
  },
  {
   "cell_type": "markdown",
   "metadata": {},
   "source": [
    "##### EAL\n",
    "Si 2p: 35.5 Å"
   ]
  },
  {
   "cell_type": "code",
   "execution_count": 16,
   "metadata": {},
   "outputs": [
    {
     "data": {
      "text/plain": [
       "35.515318954248364"
      ]
     },
     "execution_count": 16,
     "metadata": {},
     "output_type": "execute_result"
    }
   ],
   "source": [
    "eal_si = mfp_si*(1-0.738*w_si)\n",
    "eal_si"
   ]
  }
 ],
 "metadata": {
  "kernelspec": {
   "display_name": "Python 3",
   "language": "python",
   "name": "python3"
  },
  "language_info": {
   "codemirror_mode": {
    "name": "ipython",
    "version": 3
   },
   "file_extension": ".py",
   "mimetype": "text/x-python",
   "name": "python",
   "nbconvert_exporter": "python",
   "pygments_lexer": "ipython3",
   "version": "3.7.2"
  },
  "toc": {
   "base_numbering": 1,
   "nav_menu": {},
   "number_sections": true,
   "sideBar": true,
   "skip_h1_title": false,
   "title_cell": "Table of Contents",
   "title_sidebar": "Contents",
   "toc_cell": false,
   "toc_position": {
    "height": "calc(100% - 180px)",
    "left": "10px",
    "top": "150px",
    "width": "288px"
   },
   "toc_section_display": true,
   "toc_window_display": true
  }
 },
 "nbformat": 4,
 "nbformat_minor": 2
}
